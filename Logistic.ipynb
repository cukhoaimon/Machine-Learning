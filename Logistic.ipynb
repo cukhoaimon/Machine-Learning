{
  "nbformat": 4,
  "nbformat_minor": 0,
  "metadata": {
    "colab": {
      "provenance": []
    },
    "kernelspec": {
      "name": "python3",
      "display_name": "Python 3"
    },
    "language_info": {
      "name": "python"
    }
  },
  "cells": [
    {
      "cell_type": "markdown",
      "source": [
        "# Logistic regession"
      ],
      "metadata": {
        "id": "kp-2Cx6O1bY0"
      }
    },
    {
      "cell_type": "markdown",
      "source": [
        "## Các công thức\n",
        "\n",
        "- sigmoid: $$σ(z) = \\frac {1}{1 - e^{-z}}$$\n",
        "\n",
        "- loss: $$J(W) = -\\frac{1}{N} ∑_{i=1}^N (y_i \\log z_i + (1 - y_i) \\log(1-z_i)$$\n",
        "\n",
        "- Gradient Descent cho logistic sigmoid regression: $$w ← w - λ(σ(w^T x_i) - y_i)x_i$$\n"
      ],
      "metadata": {
        "id": "uo8MSo89VdcC"
      }
    },
    {
      "cell_type": "code",
      "source": [
        "import numpy as np\n",
        "import matplotlib.pyplot as plt\n",
        "\n",
        "from sklearn import datasets\n",
        "from sklearn import linear_model\n",
        "from sklearn.model_selection import train_test_split\n",
        "from sklearn.metrics import accuracy_score"
      ],
      "metadata": {
        "id": "tKhOJaEq1em2"
      },
      "execution_count": 1,
      "outputs": []
    },
    {
      "cell_type": "markdown",
      "source": [
        "# Load dữ liệu \n",
        "Ở đây tôi dùng dữ liệu Breast cancer (sklearn) với:\n",
        "\n",
        "- Class: 2\n",
        "- number of sample: 569\n",
        "- Dimension: 30\n",
        "\n",
        "Chia thành hai tập train và test theo tỉ lệ 80% train và 20% test."
      ],
      "metadata": {
        "id": "QGCZc4buQvTY"
      }
    },
    {
      "cell_type": "code",
      "source": [
        "data = datasets.load_breast_cancer()\n",
        "\n",
        "X, y = data['data'], data['target']\n",
        "\n",
        "xtr, xte, ytr, yte = train_test_split(X, y, test_size=0.2, random_state=101)\n",
        "xtr.shape, xte.shape, ytr.shape, yte.shape"
      ],
      "metadata": {
        "colab": {
          "base_uri": "https://localhost:8080/"
        },
        "id": "5umKSdpv1rEl",
        "outputId": "22c2e431-9155-4431-cecb-4b93a512250e"
      },
      "execution_count": 2,
      "outputs": [
        {
          "output_type": "execute_result",
          "data": {
            "text/plain": [
              "((455, 30), (114, 30), (455,), (114,))"
            ]
          },
          "metadata": {},
          "execution_count": 2
        }
      ]
    },
    {
      "cell_type": "code",
      "source": [
        "def _sigmoid_function(x):\n",
        "  if x >= 0:\n",
        "    z = np.exp(-x)\n",
        "    return 1 / (1 + z)\n",
        "  else:\n",
        "    z = np.exp(x)\n",
        "    return z / (1 + z)\n",
        "\n",
        "\n",
        "def sigmoid(x):\n",
        "  return np.array([_sigmoid_function(value) for value in x])\n",
        "\n",
        "\n",
        "def compute_loss(y_true, y_pred):\n",
        "  # binary cross entropy\n",
        "  # plus 1e-9 to ignore case y_pred equal zero\n",
        "  y_zero_loss = y_true * np.log(y_pred + 1e-9)\n",
        "  y_one_loss = (1-y_true) * np.log(1 - y_pred + 1e-9)\n",
        "  return -np.mean(y_zero_loss + y_one_loss)\n",
        "\n",
        "\n",
        "def compute_gradients(x, y_true, y_pred):\n",
        "  difference =  y_pred - y_true\n",
        "  gradient_b = np.mean(difference)\n",
        "  gradients_w = np.matmul(x.transpose(), difference)\n",
        "  gradients_w = np.array([np.mean(grad) for grad in gradients_w])\n",
        "  return gradients_w, gradient_b\n",
        "\n",
        "\n",
        "def predict(x, weights, bias):\n",
        "  x_dot_weights = np.matmul(x, weights.transpose()) + bias\n",
        "  probabilities = sigmoid(x_dot_weights)\n",
        "\n",
        "  return [1 if p > 0.5 else 0 for p in probabilities]\n",
        "\n",
        "\n",
        "def gradient_descent(X, y, learning_rate, epochs):\n",
        "  weights = np.zeros(X.shape[1])\n",
        "  bias = 0\n",
        "  m = X.shape[0]\n",
        "  train_accuracies = []\n",
        "  losses = []\n",
        "\n",
        "  for i in range(epochs):\n",
        "    # compute f(X)\n",
        "    x_dot_weights = np.matmul(weights, X.transpose()) + bias\n",
        "\n",
        "    pred = sigmoid(x_dot_weights)\n",
        "\n",
        "    loss = compute_loss(y, pred)\n",
        "    \n",
        "    # compute gradients\n",
        "    error_w, error_b = compute_gradients(X, y, pred)\n",
        "    \n",
        "    # check for stop terminate\n",
        "    if np.linalg.norm(error_w) / m < 1e-5 or np.linalg.norm(error_b) / m < 1e-5 or loss < 1e-5:\n",
        "      break\n",
        "\n",
        "    # update parameters\n",
        "    weights = weights - learning_rate * error_w\n",
        "    bias = bias - learning_rate * error_b\n",
        "\n",
        "  return weights, bias, i"
      ],
      "metadata": {
        "id": "4JR9_Py12KCq"
      },
      "execution_count": 3,
      "outputs": []
    },
    {
      "cell_type": "code",
      "source": [
        "weights, bias, iter = gradient_descent(xtr, ytr, 0.01, 1000)\n",
        "\n",
        "pred = predict(xte, weights, bias)\n",
        "\n",
        "# Test accuracy on test dataset\n",
        "accuracy = accuracy_score(yte, pred)\n",
        "print(f\"Train finished with accuracy {accuracy:.3f}, stop at iter={iter + 1}\")"
      ],
      "metadata": {
        "colab": {
          "base_uri": "https://localhost:8080/"
        },
        "id": "RNDSISxc9c6i",
        "outputId": "bfefc91c-6b8a-4121-89ac-e37c881cf2c5"
      },
      "execution_count": 4,
      "outputs": [
        {
          "output_type": "stream",
          "name": "stdout",
          "text": [
            "Train finished with accuracy 0.921, stop at iter=1000\n"
          ]
        }
      ]
    }
  ]
}