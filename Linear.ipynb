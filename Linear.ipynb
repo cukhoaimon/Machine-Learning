{
  "nbformat": 4,
  "nbformat_minor": 0,
  "metadata": {
    "colab": {
      "provenance": []
    },
    "kernelspec": {
      "name": "python3",
      "display_name": "Python 3"
    },
    "language_info": {
      "name": "python"
    }
  },
  "cells": [
    {
      "cell_type": "markdown",
      "source": [
        "# Áp dụng gradient descent cho bài toán hồi quy tuyến tính đơn biến\n",
        "- Dataset: Được tạo ngẫu nhiên bằng thư viện\n",
        "  - Feature: 1\n",
        "  - Mẫu: 200 (100 train và 100 test)\n",
        "  "
      ],
      "metadata": {
        "id": "tiqgK4gQVsQk"
      }
    },
    {
      "cell_type": "code",
      "source": [
        "import numpy as np\n",
        "import pandas as pd\n",
        "import matplotlib.pyplot as plt\n",
        "\n",
        "from sklearn import datasets\n",
        "from sklearn.metrics import mean_squared_error\n",
        "from sklearn.model_selection import train_test_split\n",
        "from sklearn.linear_model import LinearRegression"
      ],
      "metadata": {
        "id": "rpfrJ5KA4aWv"
      },
      "execution_count": 1,
      "outputs": []
    },
    {
      "cell_type": "code",
      "source": [
        "X, y = datasets.make_regression(\n",
        "    n_samples=200,\n",
        "    n_features=1,\n",
        "    n_informative=1,\n",
        "    noise=0,\n",
        "    random_state=0,\n",
        ")\n",
        "\n",
        "# Split source dataset to train and test\n",
        "x_train, y_train, x_test, y_test = train_test_split(X, y, test_size=0.5, random_state=101)\n",
        "\n",
        "# Adding column 1 for bias\n",
        "x_train = np.append(x_train, np.ones(x_train.shape), axis=1)\n",
        "x_test = np.array([ [xte, 1] for xte in x_test ])\n",
        "\n",
        "x_train.shape, y_train.shape, x_test.shape, y_test.shape"
      ],
      "metadata": {
        "colab": {
          "base_uri": "https://localhost:8080/"
        },
        "id": "7RdSob_g4pEZ",
        "outputId": "e6ac2a00-8dc7-4ab8-d6dd-0db08718fd24"
      },
      "execution_count": 2,
      "outputs": [
        {
          "output_type": "execute_result",
          "data": {
            "text/plain": [
              "((100, 2), (100, 1), (100, 2), (100,))"
            ]
          },
          "metadata": {},
          "execution_count": 2
        }
      ]
    },
    {
      "cell_type": "code",
      "execution_count": 3,
      "metadata": {
        "id": "SjBHP_yi4MgU"
      },
      "outputs": [],
      "source": [
        "def predict(X, b):\n",
        "  Y = np.array([])\n",
        "  for x in X:\n",
        "    Y = np.append(Y, x.dot(b))\n",
        "  return Y\n",
        "\n",
        "\n",
        "def update_coeffs(X, y, b, learning_rate):\n",
        "  Y_pred = predict(X, b)\n",
        "  m = len(y)\n",
        "  b[0] = b[0] - (learning_rate * ((1/m) * np.sum(Y_pred - y)))\n",
        "  b[1] = b[1] - (learning_rate * ((1/m) * np.sum((Y_pred - y).dot(X)))) \n",
        "\n",
        "\n",
        "def gradient_descent(X, y, learning_rate=0.05, epoch=10):\n",
        "    '''\n",
        "    Gradient Descent for a single feature\n",
        "    '''\n",
        "    # initial parameters\n",
        "    b = np.array([0.1, 0.1])\n",
        "\n",
        "    for iter in range(epoch):\n",
        "      # compute f(x)\n",
        "      y_predict = predict(X, b)\n",
        "\n",
        "      # compute cost\n",
        "      cost = mean_squared_error(y_predict, y)\n",
        "     \n",
        "      # check for stop condition\n",
        "      if cost < 1e-4:\n",
        "        print(f\"Stop at iterator={iter}\")\n",
        "        break\n",
        "        \n",
        "      # update parameter\n",
        "      update_coeffs(X, y, b, learning_rate)\n",
        "     \n",
        "    return b"
      ]
    },
    {
      "cell_type": "markdown",
      "source": [
        "# Tìm đường hồi quy bằng hàm có sẵn để so sánh"
      ],
      "metadata": {
        "id": "eY43QOzYVlf1"
      }
    },
    {
      "cell_type": "code",
      "source": [
        "lr = LinearRegression()\n",
        "lr.fit(x_train, y_train)\n",
        "lr.coef_"
      ],
      "metadata": {
        "colab": {
          "base_uri": "https://localhost:8080/"
        },
        "id": "UGPXXDiyy13s",
        "outputId": "941b5bde-90cc-4c52-905f-1c183751106a"
      },
      "execution_count": 4,
      "outputs": [
        {
          "output_type": "execute_result",
          "data": {
            "text/plain": [
              "array([[0.1868219, 0.       ]])"
            ]
          },
          "metadata": {},
          "execution_count": 4
        }
      ]
    },
    {
      "cell_type": "markdown",
      "source": [
        "# Thực hiện việc train model và vẽ đường hồi quy\n",
        "- Ở trong hình, đường màu đỏ thể hiện đường hồi quy tìm được bằng hàm có sẵn trong thư viện sklearn\n",
        "- Đường màu xanh thể hiện đường hồi quy tìm được bằng gradient descent với hàm chi phí là Mean square error, tốc độc học là 1e-5, lặp 500 lần."
      ],
      "metadata": {
        "id": "4uFHNFviVJrU"
      }
    },
    {
      "cell_type": "code",
      "source": [
        "b = gradient_descent(x_train, y_train, learning_rate=0.0001, epoch=300)\n",
        "print(b)\n",
        "\n",
        "y_pred = predict(x_test, b)\n",
        "\n",
        "f = plt.figure('Best line')\n",
        "plt.scatter(x_test[:, 0], y_test, color='b')\n",
        "\n",
        "plt.plot(x_test[:, 0], y_pred, color='g')\n",
        "plt.plot(x_test[:, 0], predict(x_test, *lr.coef_), color='r')\n",
        "\n",
        "f.show()"
      ],
      "metadata": {
        "id": "SiaDzhg04dWJ",
        "colab": {
          "base_uri": "https://localhost:8080/",
          "height": 447
        },
        "outputId": "1d0b9449-7ff6-44ad-8611-2842e59af589"
      },
      "execution_count": 5,
      "outputs": [
        {
          "output_type": "stream",
          "name": "stdout",
          "text": [
            "[ 0.20999686 -0.14776763]\n"
          ]
        },
        {
          "output_type": "display_data",
          "data": {
            "text/plain": [
              "<Figure size 640x480 with 1 Axes>"
            ],
            "image/png": "[encoded data removed]"
          },
          "metadata": {}
        }
      ]
    }
  ]
}